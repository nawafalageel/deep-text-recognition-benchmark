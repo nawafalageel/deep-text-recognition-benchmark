{
 "cells": [
  {
   "cell_type": "markdown",
   "metadata": {
    "colab_type": "text",
    "id": "view-in-github"
   },
   "source": [
    "<a href=\"https://colab.research.google.com/github/tgalkovskyi/deep-text-recognition-benchmark/blob/master/demo.ipynb\" target=\"_parent\"><img src=\"https://colab.research.google.com/assets/colab-badge.svg\" alt=\"Open In Colab\"/></a>"
   ]
  },
  {
   "cell_type": "markdown",
   "metadata": {
    "colab_type": "text",
    "id": "dHbHK60Tqn2c"
   },
   "source": [
    "This can be executed in https://colab.research.google.com \"Python 3 / GPU\" runtime."
   ]
  },
  {
   "cell_type": "code",
   "execution_count": 1,
   "metadata": {
    "colab": {
     "base_uri": "https://localhost:8080/",
     "height": 153
    },
    "colab_type": "code",
    "id": "Pi-PA14AhdK-",
    "outputId": "5d620547-6ce9-42b9-8206-20f88f23e567"
   },
   "outputs": [
    {
     "name": "stdout",
     "output_type": "stream",
     "text": [
      "Cloning into 'deep-text-recognition-benchmark'...\n",
      "remote: Enumerating objects: 495, done.\u001b[K\n",
      "remote: Total 495 (delta 0), reused 0 (delta 0), pack-reused 495\u001b[K\n",
      "Receiving objects: 100% (495/495), 3.07 MiB | 3.50 MiB/s, done.\n",
      "Resolving deltas: 100% (301/301), done.\n",
      "/workspace/vision/Nawaf/OCR/Codes/deep_text_recognition_benchmark_colvaai_official/deep-text-recognition-benchmark\n"
     ]
    }
   ],
   "source": [
    "!git clone https://github.com/clovaai/deep-text-recognition-benchmark\n",
    "%cd deep-text-recognition-benchmark"
   ]
  },
  {
   "cell_type": "markdown",
   "metadata": {
    "colab_type": "text",
    "id": "jX-ucvimlaFZ"
   },
   "source": [
    "Next, download large model files from Google Drive, using hack: https://stackoverflow.com/questions/20665881/direct-download-from-google-drive-using-google-drive-api/32742700#32742700"
   ]
  },
  {
   "cell_type": "code",
   "execution_count": 7,
   "metadata": {
    "colab": {
     "base_uri": "https://localhost:8080/",
     "height": 833
    },
    "colab_type": "code",
    "id": "9eEhhPBshkjr",
    "outputId": "205d0bd8-340f-4e9b-ebfd-e9c8f7d327a0",
    "scrolled": true
   },
   "outputs": [
    {
     "name": "stdout",
     "output_type": "stream",
     "text": [
      "  % Total    % Received % Xferd  Average Speed   Time    Time     Time  Current\n",
      "                                 Dload  Upload   Total   Spent    Left  Speed\n",
      "100  2230    0  2230    0     0   4091      0 --:--:-- --:--:-- --:--:--  4084\n",
      "  % Total    % Received % Xferd  Average Speed   Time    Time     Time  Current\n",
      "                                 Dload  Upload   Total   Spent    Left  Speed\n",
      "  0     0    0     0    0     0      0      0 --:--:-- --:--:-- --:--:--     0\n",
      "100   548  100   548    0     0    907      0 --:--:-- --:--:-- --:--:--   907\n",
      "100  113k    0  113k    0     0   123k      0 --:--:-- --:--:-- --:--:--  123k\n",
      "  % Total    % Received % Xferd  Average Speed   Time    Time     Time  Current\n",
      "                                 Dload  Upload   Total   Spent    Left  Speed\n",
      "  0     0    0     0    0     0      0      0 --:--:--  0:00:01 --:--:--     0\n",
      "  % Total    % Received % Xferd  Average Speed   Time    Time     Time  Current\n",
      "                                 Dload  Upload   Total   Spent    Left  Speed\n",
      "  0     0    0     0    0     0      0      0 --:--:-- --:--:-- --:--:--     0\n",
      "100   547  100   547    0     0    809      0 --:--:-- --:--:-- --:--:--   809\n",
      "100  113k    0  113k    0     0   116k      0 --:--:-- --:--:-- --:--:--  873k\n",
      "  % Total    % Received % Xferd  Average Speed   Time    Time     Time  Current\n",
      "                                 Dload  Upload   Total   Spent    Left  Speed\n",
      "  0     0    0     0    0     0      0      0 --:--:--  0:00:01 --:--:--     0\n",
      "  % Total    % Received % Xferd  Average Speed   Time    Time     Time  Current\n",
      "                                 Dload  Upload   Total   Spent    Left  Speed\n",
      "  0     0    0     0    0     0      0      0 --:--:-- --:--:-- --:--:--     0\n",
      "100   547  100   547    0     0    890      0 --:--:-- --:--:-- --:--:-- 10320\n",
      "100  113k    0  113k    0     0   109k      0 --:--:--  0:00:01 --:--:--  109k\n",
      "  % Total    % Received % Xferd  Average Speed   Time    Time     Time  Current\n",
      "                                 Dload  Upload   Total   Spent    Left  Speed\n",
      "100  2246    0  2246    0     0   5092      0 --:--:-- --:--:-- --:--:--  5081\n",
      "  % Total    % Received % Xferd  Average Speed   Time    Time     Time  Current\n",
      "                                 Dload  Upload   Total   Spent    Left  Speed\n",
      "  0     0    0     0    0     0      0      0 --:--:-- --:--:-- --:--:--     0\n",
      "100   548  100   548    0     0    826      0 --:--:-- --:--:-- --:--:--  6088\n",
      "100  114k    0  114k    0     0   103k      0 --:--:--  0:00:01 --:--:--  103k\n",
      "  % Total    % Received % Xferd  Average Speed   Time    Time     Time  Current\n",
      "                                 Dload  Upload   Total   Spent    Left  Speed\n",
      "100  2231    0  2231    0     0   5249      0 --:--:-- --:--:-- --:--:--  5237\n",
      "  % Total    % Received % Xferd  Average Speed   Time    Time     Time  Current\n",
      "                                 Dload  Upload   Total   Spent    Left  Speed\n",
      "  0     0    0     0    0     0      0      0 --:--:-- --:--:-- --:--:--     0\n",
      "100   548  100   548    0     0    908      0 --:--:-- --:--:-- --:--:-- 14810\n",
      "100  113k    0  113k    0     0   125k      0 --:--:-- --:--:-- --:--:--  125k\n",
      "  % Total    % Received % Xferd  Average Speed   Time    Time     Time  Current\n",
      "                                 Dload  Upload   Total   Spent    Left  Speed\n",
      "100  2230    0  2230    0     0   5425      0 --:--:-- --:--:-- --:--:--  5412\n",
      "  % Total    % Received % Xferd  Average Speed   Time    Time     Time  Current\n",
      "                                 Dload  Upload   Total   Spent    Left  Speed\n",
      "  0     0    0     0    0     0      0      0 --:--:-- --:--:-- --:--:--     0\n",
      "100   548  100   548    0     0    911      0 --:--:-- --:--:-- --:--:--   911\n",
      "100  113k    0  113k    0     0   127k      0 --:--:-- --:--:-- --:--:--  698k\n",
      "-rw-r--r-- 1 root root 116608 May 29 14:30 None-ResNet-None-CTC.pth\n",
      "-rw-r--r-- 1 root root 116580 May 29 14:30 None-VGG-BiLSTM-CTC.pth\n",
      "-rw-r--r-- 1 root root 116555 May 29 14:30 None-VGG-None-CTC.pth\n",
      "-rw-r--r-- 1 root root 116811 May 29 14:30 TPS-ResNet-BiLSTM-Attn-case-sensitive.pth\n",
      "-rw-r--r-- 1 root root 116469 May 29 14:30 TPS-ResNet-BiLSTM-Attn.pth\n",
      "-rw-r--r-- 1 root root 116656 May 29 14:30 TPS-ResNet-BiLSTM-CTC.pth\n"
     ]
    }
   ],
   "source": [
    "models = {\n",
    "    'None-ResNet-None-CTC.pth': 'https://drive.google.com/open?id=1FocnxQzFBIjDT2F9BkNUiLdo1cC3eaO0',\n",
    "    'None-VGG-BiLSTM-CTC.pth': 'https://drive.google.com/open?id=1GGC2IRYEMQviZhqQpbtpeTgHO_IXWetG',\n",
    "    'None-VGG-None-CTC.pth': 'https://drive.google.com/open?id=1FS3aZevvLiGF1PFBm5SkwvVcgI6hJWL9',\n",
    "    'TPS-ResNet-BiLSTM-Attn-case-sensitive.pth': 'https://drive.google.com/open?id=1ajONZOgiG9pEYsQ-eBmgkVbMDuHgPCaY',\n",
    "    'TPS-ResNet-BiLSTM-Attn.pth': 'https://drive.google.com/open?id=1b59rXuGGmKne1AuHnkgDzoYgKeETNMv9',\n",
    "    'TPS-ResNet-BiLSTM-CTC.pth': 'https://drive.google.com/open?id=1FocnxQzFBIjDT2F9BkNUiLdo1cC3eaO0',\n",
    "}\n",
    "\n",
    "for k, v in models.items():\n",
    "  doc_id = v[v.find('=')+1:]\n",
    "  !curl -c /tmp/cookies \"https://drive.google.com/uc?export=download&id=$doc_id\" > /tmp/intermezzo.html\n",
    "  !curl -L -b /tmp/cookies \"https://drive.google.com$(cat /tmp/intermezzo.html | grep -Po 'uc-download-link\" [^>]* href=\"\\K[^\"]*' | sed 's/\\&amp;/\\&/g')\" > $k\n",
    "\n",
    "!ls -al *.pth"
   ]
  },
  {
   "cell_type": "code",
   "execution_count": 2,
   "metadata": {
    "colab": {},
    "colab_type": "code",
    "id": "s-E716WnhfrI"
   },
   "outputs": [],
   "source": [
    "output = !CUDA_VISIBLE_DEVICES=cpu python demo.py \\\n",
    "--Transformation TPS --FeatureExtraction ResNet --SequenceModeling BiLSTM --Prediction CTC \\\n",
    "--image_folder /workspace/vision/Nawaf/OCR/Datasets/WC_test_cases \\\n",
    "--saved_model /workspace/vision/Nawaf/OCR/Codes/deep_text_recognition_benchmark_colvaai_official/saved_models/TPS_ResNet_BiLSTM_CTC_cleaned_synth10M_77_charset/best_accuracy_98_179.pth"
   ]
  },
  {
   "cell_type": "code",
   "execution_count": 3,
   "metadata": {},
   "outputs": [
    {
     "data": {
      "text/plain": [
       "['model input parameters 32 100 20 1 512 256 37 25 TPS ResNet BiLSTM CTC',\n",
       " 'loading pretrained model from /workspace/vision/Nawaf/OCR/Codes/deep_text_recognition_benchmark_colvaai_official/saved_models/TPS_ResNet_BiLSTM_CTC_cleaned_synth10M_77_charset/best_accuracy_98_179.pth',\n",
       " 'Traceback (most recent call last):',\n",
       " '  File \"demo.py\", line 129, in <module>',\n",
       " '    demo(opt)',\n",
       " '  File \"demo.py\", line 33, in demo',\n",
       " '    model.load_state_dict(torch.load(opt.saved_model, map_location=device))',\n",
       " '  File \"/opt/conda/lib/python3.8/site-packages/torch/nn/modules/module.py\", line 1406, in load_state_dict',\n",
       " \"    raise RuntimeError('Error(s) in loading state_dict for {}:\\\\n\\\\t{}'.format(\",\n",
       " 'RuntimeError: Error(s) in loading state_dict for DataParallel:',\n",
       " '\\tsize mismatch for module.Transformation.GridGenerator.P_hat: copying a param with shape torch.Size([38400, 23]) from checkpoint, the shape in current model is torch.Size([3200, 23]).',\n",
       " '\\tsize mismatch for module.Prediction.weight: copying a param with shape torch.Size([78, 256]) from checkpoint, the shape in current model is torch.Size([37, 256]).',\n",
       " '\\tsize mismatch for module.Prediction.bias: copying a param with shape torch.Size([78]) from checkpoint, the shape in current model is torch.Size([37]).']"
      ]
     },
     "execution_count": 3,
     "metadata": {},
     "output_type": "execute_result"
    }
   ],
   "source": [
    "output"
   ]
  },
  {
   "cell_type": "code",
   "execution_count": 9,
   "metadata": {
    "colab": {
     "base_uri": "https://localhost:8080/",
     "height": 1000
    },
    "colab_type": "code",
    "id": "bJRPln2QlxlJ",
    "outputId": "a81e0b6b-8171-49a6-c59f-15649d7c6bb8",
    "scrolled": false
   },
   "outputs": [
    {
     "data": {
      "text/html": [
       "<table border=\"1\" class=\"dataframe\">\n",
       "  <thead>\n",
       "    <tr style=\"text-align: right;\">\n",
       "      <th></th>\n",
       "      <th>img</th>\n",
       "      <th>id</th>\n",
       "      <th>label</th>\n",
       "      <th>conf</th>\n",
       "    </tr>\n",
       "  </thead>\n",
       "  <tbody>\n",
       "    <tr>\n",
       "      <th>0</th>\n",
       "      <td><img src=\"data:image/png;base64,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\"></td>\n",
       "      <td>/workspace/vision/Nawaf/OCR/Datasets/test_inf_images/Screenshot from 2022-07-26 16-42-28.png</td>\n",
       "      <td>نمذجة</td>\n",
       "      <td>0.4799</td>\n",
       "    </tr>\n",
       "    <tr>\n",
       "      <th>1</th>\n",
       "      <td><img src=\"data:image/png;base64,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\"></td>\n",
       "      <td>/workspace/vision/Nawaf/OCR/Datasets/test_inf_images/Screenshot from 2022-07-26 16-42-46.png</td>\n",
       "      <td>نمذجة</td>\n",
       "      <td>0.5241</td>\n",
       "    </tr>\n",
       "  </tbody>\n",
       "</table>"
      ],
      "text/plain": [
       "<IPython.core.display.HTML object>"
      ]
     },
     "metadata": {},
     "output_type": "display_data"
    }
   ],
   "source": [
    "from IPython.core.display import display, HTML\n",
    "from PIL import Image\n",
    "import base64\n",
    "import io\n",
    "import pandas as pd\n",
    "\n",
    "data = pd.DataFrame()\n",
    "for ind, row in enumerate(output[output.index('image_path               \\tpredicted_labels         \\tconfidence score')+2:]):\n",
    "    try:\n",
    "\n",
    "        row = row.split('\\t')\n",
    "        filename = row[0].strip()\n",
    "        label = row[1].strip()\n",
    "        conf = row[2].strip()\n",
    "        img = Image.open(filename)\n",
    "        img_buffer = io.BytesIO()\n",
    "        img.save(img_buffer, format=\"PNG\")\n",
    "        imgStr = base64.b64encode(img_buffer.getvalue()).decode(\"utf-8\") \n",
    "\n",
    "        data.loc[ind, 'img'] = '<img src=\"data:image/png;base64,{0:s}\">'.format(imgStr)\n",
    "        data.loc[ind, 'id'] = filename\n",
    "        data.loc[ind, 'label'] = label\n",
    "        data.loc[ind, 'conf'] = conf\n",
    "    except Exception as e:\n",
    "        pass\n",
    "html_all = data.to_html(escape=False)\n",
    "display(HTML(html_all))"
   ]
  },
  {
   "cell_type": "code",
   "execution_count": null,
   "metadata": {},
   "outputs": [],
   "source": []
  }
 ],
 "metadata": {
  "accelerator": "GPU",
  "colab": {
   "collapsed_sections": [],
   "include_colab_link": true,
   "name": "deep-text-recognition-benchmark.ipynb",
   "provenance": []
  },
  "kernelspec": {
   "display_name": "Python 3",
   "language": "python",
   "name": "python3"
  },
  "language_info": {
   "codemirror_mode": {
    "name": "ipython",
    "version": 3
   },
   "file_extension": ".py",
   "mimetype": "text/x-python",
   "name": "python",
   "nbconvert_exporter": "python",
   "pygments_lexer": "ipython3",
   "version": "3.8.8"
  }
 },
 "nbformat": 4,
 "nbformat_minor": 1
}
